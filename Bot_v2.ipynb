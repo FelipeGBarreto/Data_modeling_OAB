{
 "cells": [
  {
   "cell_type": "markdown",
   "id": "681bd070-a4e8-4978-9fc1-46d6105667de",
   "metadata": {},
   "source": [
    "<h1 style=\"background-color:lightblue;font-family:newtimeroman;text-align:center;border-radius: 50px 0px\"><font color=black size=6>Modelagem e Extração do Resultado da OAB</font></h1>"
   ]
  },
  {
   "cell_type": "markdown",
   "id": "31f7c2ca-bf4b-4635-ac23-76fed950a122",
   "metadata": {
    "tags": []
   },
   "source": [
    "Passos:\n",
    "1. retirar todos os caracteres antes dos números 1.1, 1.2...\n",
    "2. Retirar todos os caracteres após o '.'. Obrigatoriamente deve ser rodado após o passo 1\n",
    "\n",
    "[Site Resultado em pdf](https://oab.fgv.br/arq/642/2464093_Resultado%20definitivo%20da%201%C2%AA%20fase%20-%2039%C2%BA%20EOU.pdf)"
   ]
  },
  {
   "cell_type": "markdown",
   "id": "bb97e0b1",
   "metadata": {},
   "source": [
    "## Bibliotecas"
   ]
  },
  {
   "cell_type": "code",
   "execution_count": 5,
   "id": "eafa5c0c-be86-4be6-bafd-de1cefd886e1",
   "metadata": {
    "tags": []
   },
   "outputs": [],
   "source": [
    "import pandas as pd\n",
    "import numpy as np\n",
    "\n",
    "import re"
   ]
  },
  {
   "cell_type": "markdown",
   "id": "8c3939f2",
   "metadata": {},
   "source": [
    "## Inputs"
   ]
  },
  {
   "cell_type": "code",
   "execution_count": null,
   "id": "00e8815d-7344-44de-bc71-12cfc6833055",
   "metadata": {
    "jupyter": {
     "outputs_hidden": true
    },
    "scrolled": true,
    "tags": []
   },
   "outputs": [],
   "source": [
    "qual_exame = input(\"Qual o exame da OAB? Ex: 37,38,39, etc:\\n\")\n",
    "fase = input(\"Qual a fase do exame de ordem, 1 ou 2?:\\n\")\n",
    "preencher_1_UF = input(\"\\nQual a UF a ser preenchida na primeira cidade?\\n\")\n",
    "texto = input(\"Cole aqui os dados - Todo o conteúdo do pdf:\\n\")\n",
    "\n",
    "\n",
    "# Encontrar a primeira ocorrência de '1.1.'\n",
    "match = re.search(r'1\\.1\\.', texto)\n",
    "\n",
    "if match:\n",
    "    indice = match.start()\n",
    "    resultado = texto[indice:]\n",
    "else:\n",
    "    resultado = texto\n",
    "\n",
    "##### RETIRAR DO TEXTO #####\n",
    "# 1a fase #\n",
    "texto_retirar = 'II - Relação dos examinandos aprovados na prova objetiva, na condição sub judice, na seguinte ordem: seccional, cidade de prova, número de inscrição e nome do examinando em ordem alfabética'\n",
    "resultado = resultado.replace(texto_retirar, '')\n",
    "\n",
    "# Encontrar a primeira ocorrência de 'DAS DISPOSIÇÕES FINAIS '\n",
    "indice_final = resultado.find('2 DAS DISPOSIÇÕES FINAIS')\n",
    "\n",
    "if indice_final != -1:  # Se a substring for encontrada\n",
    "    resultado = resultado[:indice_final]  # Pegando a parte do texto até o índice onde 'DAS DISPOSIÇÕES FINAIS' começa\n",
    "else:\n",
    "    resultado = resultado\n",
    "\n",
    "# 2a fase #\n",
    "texto_retirar_2 = f'II - Relação de examinandos aprovados no {qual_exame}º Exame de Ordem Unificado, na condição sub judice, na seguinte ordem: seccional, cidade de prova, número de inscrição e nome do examinando em ordem alfabética.'\n",
    "texto_retirar_3 = f'II - Relação de examinandos aprovados no {qual_exame}o Exame de Ordem Unificado, na condição sub judice, na seguinte ordem: seccional, cidade de prova, número de inscrição e nome do examinando em ordem alfabética.'\n",
    "resultado = resultado.replace(texto_retirar_2, '')\n",
    "resultado = resultado.replace(texto_retirar_3, '')\n",
    "\n",
    "\n",
    "\n",
    "# Encontrar a primeira ocorrência de 'DAS DISPOSIÇÕES FINAIS '\n",
    "indice_final = resultado.find('2 DISPOSIÇÕES FINAIS')\n",
    "\n",
    "if indice_final != -1:  # Se a substring for encontrada\n",
    "    resultado = resultado[:indice_final]  # Pegando a parte do texto até o índice onde 'DAS DISPOSIÇÕES FINAIS' começa\n",
    "else:\n",
    "    resultado = resultado\n"
   ]
  },
  {
   "cell_type": "markdown",
   "id": "c1a37f8e-c421-4f82-8fe9-d1f3910b0a5a",
   "metadata": {},
   "source": [
    "## Modelagem"
   ]
  },
  {
   "cell_type": "markdown",
   "id": "133a292f",
   "metadata": {},
   "source": [
    "#### Ajuste para captura dos nomes"
   ]
  },
  {
   "cell_type": "code",
   "execution_count": 3,
   "id": "c49f5cfa-3007-488d-bee7-c0cc0f695479",
   "metadata": {
    "tags": []
   },
   "outputs": [],
   "source": [
    "# Colocando '/' antes de das cidades que não estão acompanhadas de UF\n",
    "for i in range(1, 28):\n",
    "    for j in range(2, 101):\n",
    "        elemento = str(i) + '.' + str(j) + '.'\n",
    "        resultado = resultado.replace(elemento, '/' + elemento)\n",
    "\n",
    "lista_oab = resultado.split('/')"
   ]
  },
  {
   "cell_type": "markdown",
   "id": "c6f76e19",
   "metadata": {},
   "source": [
    "#### Criando o DF com a base"
   ]
  },
  {
   "cell_type": "code",
   "execution_count": 4,
   "id": "0c7f7acd",
   "metadata": {},
   "outputs": [],
   "source": [
    "# Número de linhas (aprovados)\n",
    "n_rows = len(lista_oab)\n",
    "\n",
    "# Criando 2 listas: 1a Matrículas / 2a Nomes\n",
    "list_rows = [lista_oab[i].split(',') for i in range(n_rows)]\n"
   ]
  },
  {
   "cell_type": "code",
   "execution_count": 5,
   "id": "30538e49",
   "metadata": {},
   "outputs": [],
   "source": [
    "# Criando o dataframe com as listas criadas\n",
    "df_lista_oab = pd.DataFrame(list_rows, columns=['Matrícula','Nome'])\n",
    "df_lista_oab = df_lista_oab[df_lista_oab['Matrícula'].notnull() & df_lista_oab['Nome'].notnull()]\n"
   ]
  },
  {
   "cell_type": "markdown",
   "id": "82299d71",
   "metadata": {},
   "source": [
    "#### Ajustando os campos de Matrúcula e UF/Cidade"
   ]
  },
  {
   "cell_type": "code",
   "execution_count": 6,
   "id": "04e082c7",
   "metadata": {},
   "outputs": [],
   "source": [
    "df_lista_oab['Matrícula Ajustada'] = df_lista_oab['Matrícula'].str.slice(start=-9)\n",
    "df_lista_oab['Cidade/UF'] = df_lista_oab['Matrícula'].str.slice(stop=-9)\n",
    "\n",
    "\n",
    "# Retirando o possível '.' do nome\n",
    "for i in range(df_lista_oab.shape[0]):\n",
    "    df_lista_oab['Nome'].iloc[i] = df_lista_oab['Nome'].iloc[i].replace('.',' ')\n",
    "    df_lista_oab['Nome'].iloc[i] = df_lista_oab['Nome'].iloc[i].replace('OAB',' ')\n",
    "    df_lista_oab['Matrícula Ajustada'].iloc[i] = df_lista_oab['Matrícula Ajustada'].iloc[i].replace('.',' ')\n",
    "    df_lista_oab['Matrícula Ajustada'].iloc[i] = df_lista_oab['Matrícula Ajustada'].iloc[i].replace('OAB',' ')"
   ]
  },
  {
   "cell_type": "markdown",
   "id": "c44cd778",
   "metadata": {},
   "source": [
    "#### Removendo os espaços de Nome e Matrícula"
   ]
  },
  {
   "cell_type": "code",
   "execution_count": 7,
   "id": "543d4a32",
   "metadata": {},
   "outputs": [],
   "source": [
    "##############\n",
    "# Função para remover números precedidos e sucedidos por espaço em uma string\n",
    "def remover_numeros_com_espaco(string):\n",
    "    return re.sub(r'(?<=\\s)\\d+(?=\\s)', '', string)\n",
    "\n",
    "# Aplicando a função à coluna\n",
    "df_lista_oab['Nome'] = df_lista_oab['Nome'].apply(remover_numeros_com_espaco)\n",
    "df_lista_oab['Nome'] = df_lista_oab['Nome'].apply(lambda x: ''.join([i for i in x if not i.isdigit()]))\n",
    "df_lista_oab['Matrícula Ajustada'] = df_lista_oab['Matrícula Ajustada'].apply(remover_numeros_com_espaco)\n"
   ]
  },
  {
   "cell_type": "markdown",
   "id": "d78b3238",
   "metadata": {},
   "source": [
    "#### Crindo campos UF e Cidade"
   ]
  },
  {
   "cell_type": "code",
   "execution_count": 8,
   "id": "1fcb6384",
   "metadata": {},
   "outputs": [],
   "source": [
    "# Pegando a Cidade e UF\n",
    "df_lista_oab['UF'] = df_lista_oab['Cidade/UF']\\\n",
    "    .str.extract(r'^([^\\d]+)')\n",
    "df_lista_oab['Cidade'] = df_lista_oab['Cidade/UF']\\\n",
    "    .str.split('.').str.get(-1)\\\n",
    "    .str.strip()\n",
    "\n",
    "# Dropando colunas desnecessárias\n",
    "df_lista_oab = df_lista_oab.drop(['Matrícula','Cidade/UF'], axis=1)\n"
   ]
  },
  {
   "cell_type": "code",
   "execution_count": 9,
   "id": "87e7f0eb",
   "metadata": {},
   "outputs": [
    {
     "data": {
      "text/html": [
       "<div>\n",
       "<style scoped>\n",
       "    .dataframe tbody tr th:only-of-type {\n",
       "        vertical-align: middle;\n",
       "    }\n",
       "\n",
       "    .dataframe tbody tr th {\n",
       "        vertical-align: top;\n",
       "    }\n",
       "\n",
       "    .dataframe thead th {\n",
       "        text-align: right;\n",
       "    }\n",
       "</style>\n",
       "<table border=\"1\" class=\"dataframe\">\n",
       "  <thead>\n",
       "    <tr style=\"text-align: right;\">\n",
       "      <th></th>\n",
       "      <th>Nome</th>\n",
       "      <th>Matrícula Ajustada</th>\n",
       "      <th>UF</th>\n",
       "      <th>Cidade</th>\n",
       "    </tr>\n",
       "  </thead>\n",
       "  <tbody>\n",
       "    <tr>\n",
       "      <th>0</th>\n",
       "      <td>Alaissa Nascimento Galvão</td>\n",
       "      <td>395154248</td>\n",
       "      <td>NaN</td>\n",
       "      <td>RIO BRANCO</td>\n",
       "    </tr>\n",
       "    <tr>\n",
       "      <th>1</th>\n",
       "      <td>Alana Nascimento E Souza</td>\n",
       "      <td>395050404</td>\n",
       "      <td></td>\n",
       "      <td></td>\n",
       "    </tr>\n",
       "    <tr>\n",
       "      <th>2</th>\n",
       "      <td>Aleks Rodrigues Barboza Junior</td>\n",
       "      <td>395146723</td>\n",
       "      <td></td>\n",
       "      <td></td>\n",
       "    </tr>\n",
       "  </tbody>\n",
       "</table>\n",
       "</div>"
      ],
      "text/plain": [
       "                               Nome Matrícula Ajustada   UF      Cidade\n",
       "0        Alaissa Nascimento Galvão           395154248  NaN  RIO BRANCO\n",
       "1         Alana Nascimento E Souza           395050404                 \n",
       "2   Aleks Rodrigues Barboza Junior           395146723                 "
      ]
     },
     "execution_count": 9,
     "metadata": {},
     "output_type": "execute_result"
    }
   ],
   "source": [
    "df_lista_oab.head(3)"
   ]
  },
  {
   "cell_type": "markdown",
   "id": "dbdbb895",
   "metadata": {},
   "source": [
    "#### Ajustando o 1º nome de UF --> Veio faltando para o RIO BRANCO"
   ]
  },
  {
   "cell_type": "code",
   "execution_count": 11,
   "id": "25cd062a",
   "metadata": {},
   "outputs": [],
   "source": [
    "df_lista_oab.loc[0, 'UF'] = preencher_1_UF"
   ]
  },
  {
   "cell_type": "markdown",
   "id": "40079470",
   "metadata": {},
   "source": [
    "#### Retirando os espaços antes e depois dos caracteres & upper nome"
   ]
  },
  {
   "cell_type": "code",
   "execution_count": 12,
   "id": "aa2dea41",
   "metadata": {},
   "outputs": [],
   "source": [
    "for i in df_lista_oab.columns:\n",
    "    df_lista_oab[i] = df_lista_oab[i].str.strip()\\\n",
    "        .str.upper()\n"
   ]
  },
  {
   "cell_type": "markdown",
   "id": "6570c3da",
   "metadata": {},
   "source": [
    "#### Ajustando UF e Cidade"
   ]
  },
  {
   "cell_type": "code",
   "execution_count": 13,
   "id": "ab387ba0",
   "metadata": {},
   "outputs": [],
   "source": [
    "# função para remover os números\n",
    "def remover_numeros(valor):\n",
    "    if pd.isna(valor):  # Verificar se o valor é nulo\n",
    "        return valor  # Se for nulo, retornar o valor nulo\n",
    "    else:\n",
    "        return ''.join([i for i in valor if not i.isdigit()])  # Remover números do valor não nulo\n",
    "\n",
    "# Aplicando a função\n",
    "df_lista_oab['UF'] = df_lista_oab['UF'].apply(remover_numeros)\n",
    "df_lista_oab['Cidade'] = df_lista_oab['Cidade'].apply(remover_numeros)\n",
    "\n",
    "# Ajustando os nomes vazios em Cidade e UF\n",
    "df_lista_oab['UF'] = [None \n",
    "    if (df_lista_oab['UF'].iloc[i] == '') or df_lista_oab['UF'].isnull().iloc[i] \n",
    "    else df_lista_oab['UF'].iloc[i] for i in range(df_lista_oab.shape[0])]\n",
    "\n",
    "df_lista_oab['Cidade'] = [None \n",
    "    if (df_lista_oab['Cidade'].iloc[i] == '') or df_lista_oab['Cidade'].isnull().iloc[i] \n",
    "    else df_lista_oab['Cidade'].iloc[i] for i in range(df_lista_oab.shape[0])]\n",
    "\n",
    "# Ajustando os valores vazios para os campos colocando os anteriores\n",
    "df_lista_oab['UF'] = df_lista_oab.UF.str.strip().fillna(method='ffill')\n",
    "df_lista_oab['Cidade'] = df_lista_oab.Cidade.str.strip().fillna(method='ffill')"
   ]
  },
  {
   "cell_type": "markdown",
   "id": "0cff83f5",
   "metadata": {},
   "source": [
    "#### Ajuste Final de espaço em branco"
   ]
  },
  {
   "cell_type": "code",
   "execution_count": 14,
   "id": "cbe86db3-bddd-4b6d-b608-db6a425cf743",
   "metadata": {
    "tags": []
   },
   "outputs": [],
   "source": [
    "for i in range(df_lista_oab.shape[0]):\n",
    "    df_lista_oab['Nome'].iloc[i] = df_lista_oab['Nome'].iloc[i].replace('  ',' ')\n",
    "    df_lista_oab['Nome'].iloc[i] = df_lista_oab['Nome'].iloc[i].replace('   ',' ')\n",
    "    df_lista_oab['Nome'].iloc[i] = df_lista_oab['Nome'].iloc[i].replace('    ',' ')\n",
    "    df_lista_oab['Nome'].iloc[i] = df_lista_oab['Nome'].iloc[i].replace('     ',' ')\n",
    "    df_lista_oab['Nome'].iloc[i] = df_lista_oab['Nome'].iloc[i].replace('      ',' ')\n",
    "\n",
    "for i in range(df_lista_oab.shape[0]):\n",
    "    df_lista_oab['Nome'].iloc[i] = df_lista_oab['Nome'].iloc[i].replace('  ',' ')\n",
    "    df_lista_oab['Nome'].iloc[i] = df_lista_oab['Nome'].iloc[i].replace('   ',' ')\n",
    "    df_lista_oab['Nome'].iloc[i] = df_lista_oab['Nome'].iloc[i].replace('    ',' ')\n",
    "    df_lista_oab['Nome'].iloc[i] = df_lista_oab['Nome'].iloc[i].replace('     ',' ')\n",
    "    df_lista_oab['Nome'].iloc[i] = df_lista_oab['Nome'].iloc[i].replace('      ',' ')"
   ]
  },
  {
   "cell_type": "markdown",
   "id": "47ceabfd-c720-4a2b-bdf8-e3d2cd0617fc",
   "metadata": {},
   "source": [
    "### Salvando a base final"
   ]
  },
  {
   "cell_type": "code",
   "execution_count": 15,
   "id": "ec7fc628-31e9-41d8-8079-cc738406e9fe",
   "metadata": {
    "tags": []
   },
   "outputs": [],
   "source": [
    "df_lista_oab.to_csv(f\"/Users/felipebarreto/Desktop/Dados Resultado OAB/Resultado {fase}a Fase {qual_exame}.csv\")"
   ]
  },
  {
   "cell_type": "code",
   "execution_count": null,
   "id": "cf609c0a",
   "metadata": {},
   "outputs": [],
   "source": []
  }
 ],
 "metadata": {
  "kernelspec": {
   "display_name": "Python 3 (ipykernel)",
   "language": "python",
   "name": "python3"
  },
  "language_info": {
   "codemirror_mode": {
    "name": "ipython",
    "version": 3
   },
   "file_extension": ".py",
   "mimetype": "text/x-python",
   "name": "python",
   "nbconvert_exporter": "python",
   "pygments_lexer": "ipython3",
   "version": "3.11.5"
  }
 },
 "nbformat": 4,
 "nbformat_minor": 5
}
